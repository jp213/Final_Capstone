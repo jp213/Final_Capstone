{
 "cells": [
  {
   "cell_type": "markdown",
   "metadata": {},
   "source": [
    "# Final Capstone: Revisiting the Netflix Prize\n",
    "\n",
    "## Notebook 6: Models"
   ]
  },
  {
   "cell_type": "code",
   "execution_count": 1,
   "metadata": {},
   "outputs": [],
   "source": [
    "import matplotlib.pyplot as plt\n",
    "import numpy as np\n",
    "import pandas as pd\n",
    "import seaborn as sns\n",
    "\n",
    "from scipy import stats\n",
    "from scipy.stats import yeojohnson as yj\n",
    "from sklearn import metrics\n",
    "from sklearn.linear_model import LinearRegression, SGDRegressor, Lasso\n",
    "from sklearn.linear_model import Ridge, OrthogonalMatchingPursuit, Lars\n",
    "from sklearn.experimental import enable_hist_gradient_boosting\n",
    "from sklearn.ensemble import HistGradientBoostingRegressor\n",
    "from sklearn.metrics import mean_absolute_error, mean_squared_error\n",
    "from sklearn.model_selection import cross_val_score, train_test_split\n",
    "from sklearn.preprocessing import StandardScaler\n",
    "\n",
    "sns.set_style('darkgrid')\n",
    "pd.set_option('display.max_rows', 100)\n",
    "pd.set_option('display.float_format', '{:.8f}'.format)"
   ]
  },
  {
   "cell_type": "code",
   "execution_count": 2,
   "metadata": {},
   "outputs": [
    {
     "name": "stdout",
     "output_type": "stream",
     "text": [
      "<class 'pandas.core.frame.DataFrame'>\n",
      "RangeIndex: 96304740 entries, 0 to 96304739\n",
      "Data columns (total 18 columns):\n",
      " #   Column           Dtype  \n",
      "---  ------           -----  \n",
      " 0   mov_id           int16  \n",
      " 1   cust_id          int32  \n",
      " 2   day_rated        int16  \n",
      " 3   mov_year         int16  \n",
      " 4   mov_count        int32  \n",
      " 5   rated_bycust     int16  \n",
      " 6   rate_each_day    int32  \n",
      " 7   mov_day_count    uint16 \n",
      " 8   cust_day_count   int16  \n",
      " 9   cust_days_since  int16  \n",
      " 10  mov_days_since   int16  \n",
      " 11  cust_avg_rating  float32\n",
      " 12  mov_day_avg      float32\n",
      " 13  cust_day_avg     float32\n",
      " 14  avg_rate_mov_yr  float32\n",
      " 15  avg_rate_cst_yr  float32\n",
      " 16  global_mean      float32\n",
      " 17  cust_pc          float32\n",
      "dtypes: float32(7), int16(7), int32(3), uint16(1)\n",
      "memory usage: 5.0 GB\n",
      "\n",
      "<class 'pandas.core.frame.DataFrame'>\n",
      "Int64Index: 96304740 entries, 61342875 to 6598294\n",
      "Data columns (total 1 columns):\n",
      " #   Column  Dtype\n",
      "---  ------  -----\n",
      " 0   rating  int8 \n",
      "dtypes: int8(1)\n",
      "memory usage: 826.6 MB\n",
      "\n",
      "<class 'pandas.core.frame.DataFrame'>\n",
      "RangeIndex: 1408395 entries, 0 to 1408394\n",
      "Data columns (total 19 columns):\n",
      " #   Column           Non-Null Count    Dtype  \n",
      "---  ------           --------------    -----  \n",
      " 0   mov_id           1408395 non-null  int16  \n",
      " 1   cust_id          1408395 non-null  int32  \n",
      " 2   day_rated        1408395 non-null  int16  \n",
      " 3   mov_year         1408395 non-null  int16  \n",
      " 4   mov_count        1408395 non-null  int32  \n",
      " 5   rated_bycust     1408395 non-null  int16  \n",
      " 6   rate_each_day    1408395 non-null  int32  \n",
      " 7   mov_day_count    1408395 non-null  uint16 \n",
      " 8   cust_day_count   1408395 non-null  int16  \n",
      " 9   cust_days_since  1408395 non-null  int16  \n",
      " 10  mov_days_since   1408395 non-null  int16  \n",
      " 11  cust_avg_rating  1408395 non-null  float32\n",
      " 12  mov_day_avg      1408395 non-null  float32\n",
      " 13  cust_day_avg     1408395 non-null  float32\n",
      " 14  avg_rate_mov_yr  1408395 non-null  float32\n",
      " 15  avg_rate_cst_yr  1408395 non-null  float32\n",
      " 16  global_mean      1408395 non-null  float32\n",
      " 17  cust_pc          1408395 non-null  float32\n",
      " 18  mov_pc           1408395 non-null  float32\n",
      "dtypes: float32(8), int16(7), int32(3), uint16(1)\n",
      "memory usage: 80.6 MB\n",
      "\n",
      "<class 'pandas.core.frame.DataFrame'>\n",
      "Int64Index: 1408395 entries, 8994179 to 49941263\n",
      "Data columns (total 1 columns):\n",
      " #   Column  Non-Null Count    Dtype\n",
      "---  ------  --------------    -----\n",
      " 0   rating  1408395 non-null  int8 \n",
      "dtypes: int8(1)\n",
      "memory usage: 12.1 MB\n",
      "Wall time: 4.73 s\n"
     ]
    }
   ],
   "source": [
    "%%time\n",
    "# import main training and quiz data\n",
    "base_path = 'C:/Users/jnpol/Documents/DS/Data Science/UL/'\n",
    "train_features = pd.read_parquet(base_path + 'train_features_final.parquet')\n",
    "train_target = pd.read_parquet(base_path + 'train_target.parquet')\n",
    "quiz_features = pd.read_parquet(base_path + 'quiz_features_final.parquet')\n",
    "quiz_target = pd.read_parquet(base_path + 'quiz_target.parquet')\n",
    "\n",
    "train_features.info()\n",
    "print()\n",
    "train_target.info()\n",
    "print()\n",
    "quiz_features.info()\n",
    "print()\n",
    "quiz_target.info()"
   ]
  },
  {
   "cell_type": "code",
   "execution_count": 3,
   "metadata": {},
   "outputs": [
    {
     "name": "stdout",
     "output_type": "stream",
     "text": [
      "<class 'pandas.core.frame.DataFrame'>\n",
      "RangeIndex: 96304740 entries, 0 to 96304739\n",
      "Data columns (total 1 columns):\n",
      " #   Column  Dtype\n",
      "---  ------  -----\n",
      " 0   rating  int8 \n",
      "dtypes: int8(1)\n",
      "memory usage: 91.8 MB\n",
      "\n",
      "<class 'pandas.core.frame.DataFrame'>\n",
      "RangeIndex: 1408395 entries, 0 to 1408394\n",
      "Data columns (total 1 columns):\n",
      " #   Column  Non-Null Count    Dtype\n",
      "---  ------  --------------    -----\n",
      " 0   rating  1408395 non-null  int8 \n",
      "dtypes: int8(1)\n",
      "memory usage: 1.3 MB\n",
      "Wall time: 49 ms\n"
     ]
    }
   ],
   "source": [
    "%%time\n",
    "# reset indices for target dfs\n",
    "train_target.reset_index(drop=True, inplace=True)\n",
    "quiz_target.reset_index(drop=True, inplace=True)\n",
    "train_target.info()\n",
    "print()\n",
    "quiz_target.info()"
   ]
  },
  {
   "cell_type": "code",
   "execution_count": 4,
   "metadata": {},
   "outputs": [
    {
     "name": "stdout",
     "output_type": "stream",
     "text": [
      "<class 'pandas.core.frame.DataFrame'>\n",
      "RangeIndex: 96304740 entries, 0 to 96304739\n",
      "Data columns (total 8 columns):\n",
      " #   Column       Dtype  \n",
      "---  ------       -----  \n",
      " 0   tbit_tran    int16  \n",
      " 1   tyr_4rt      float64\n",
      " 2   tmovct_sqrt  float32\n",
      " 3   trbc_4rt     float64\n",
      " 4   trbc_3rt     float32\n",
      " 5   tcdc_4rt     float64\n",
      " 6   tcdc_log     float32\n",
      " 7   tarmy_3rt    float32\n",
      "dtypes: float32(4), float64(3), int16(1)\n",
      "memory usage: 3.8 GB\n",
      "\n",
      "<class 'pandas.core.frame.DataFrame'>\n",
      "RangeIndex: 1408395 entries, 0 to 1408394\n",
      "Data columns (total 8 columns):\n",
      " #   Column       Non-Null Count    Dtype  \n",
      "---  ------       --------------    -----  \n",
      " 0   qbit_tran    1408395 non-null  int16  \n",
      " 1   qyr_4rt      1408395 non-null  float64\n",
      " 2   qmovct_sqrt  1408395 non-null  float32\n",
      " 3   qrbc_4rt     1408395 non-null  float64\n",
      " 4   qrbc_3rt     1408395 non-null  float32\n",
      " 5   qcdc_4rt     1408395 non-null  float64\n",
      " 6   qcdc_log     1408395 non-null  float32\n",
      " 7   qarmy_3rt    1408395 non-null  float32\n",
      "dtypes: float32(4), float64(3), int16(1)\n",
      "memory usage: 56.4 MB\n",
      "\n",
      "<class 'pandas.core.frame.DataFrame'>\n",
      "RangeIndex: 96304740 entries, 0 to 96304739\n",
      "Data columns (total 4 columns):\n",
      " #   Column         Dtype  \n",
      "---  ------         -----  \n",
      " 0   mov_pc_all     float32\n",
      " 1   mov_pc_no_rl   float32\n",
      " 2   mov_pc_no_mar  float32\n",
      " 3   mov_pc_no_mgd  float32\n",
      "dtypes: float32(4)\n",
      "memory usage: 1.4 GB\n",
      "Wall time: 2.68 s\n"
     ]
    }
   ],
   "source": [
    "%%time\n",
    "# import transformation dfs and the questionable movie feature pcs\n",
    "train_trans = pd.read_parquet(base_path + 'train_trans.parquet')\n",
    "quiz_trans = pd.read_parquet(base_path + 'quiz_trans.parquet')\n",
    "train_mov_pcs = pd.read_parquet(base_path + 'mov_pcs_train.parquet')\n",
    "train_trans.info()\n",
    "print()\n",
    "quiz_trans.info()\n",
    "print()\n",
    "train_mov_pcs.info()"
   ]
  },
  {
   "cell_type": "code",
   "execution_count": 5,
   "metadata": {},
   "outputs": [
    {
     "name": "stdout",
     "output_type": "stream",
     "text": [
      "Wall time: 1.28 s\n"
     ]
    }
   ],
   "source": [
    "%%time\n",
    "train_trans.tyr_4rt = train_trans.tyr_4rt.astype(np.float32)\n",
    "train_trans.trbc_4rt = train_trans.trbc_4rt.astype(np.float32)\n",
    "train_trans.tcdc_4rt = train_trans.tcdc_4rt.astype(np.float32)\n",
    "quiz_trans.qyr_4rt = quiz_trans.qyr_4rt.astype(np.float32)\n",
    "quiz_trans.qrbc_4rt = quiz_trans.qrbc_4rt.astype(np.float32)\n",
    "quiz_trans.qcdc_4rt = quiz_trans.qcdc_4rt.astype(np.float32)"
   ]
  },
  {
   "cell_type": "code",
   "execution_count": 8,
   "metadata": {},
   "outputs": [
    {
     "name": "stdout",
     "output_type": "stream",
     "text": [
      "<class 'pandas.core.frame.DataFrame'>\n",
      "RangeIndex: 96304740 entries, 0 to 96304739\n",
      "Data columns (total 4 columns):\n",
      " #   Column     Dtype\n",
      "---  ------     -----\n",
      " 0   mov_id     int16\n",
      " 1   cust_id    int32\n",
      " 2   day_rated  int16\n",
      " 3   mov_year   int16\n",
      "dtypes: int16(3), int32(1)\n",
      "memory usage: 918.4 MB\n",
      "<class 'pandas.core.frame.DataFrame'>\n",
      "RangeIndex: 1408395 entries, 0 to 1408394\n",
      "Data columns (total 4 columns):\n",
      " #   Column     Non-Null Count    Dtype\n",
      "---  ------     --------------    -----\n",
      " 0   mov_id     1408395 non-null  int16\n",
      " 1   cust_id    1408395 non-null  int32\n",
      " 2   day_rated  1408395 non-null  int16\n",
      " 3   mov_year   1408395 non-null  int16\n",
      "dtypes: int16(3), int32(1)\n",
      "memory usage: 13.4 MB\n",
      "Wall time: 15 ms\n"
     ]
    }
   ],
   "source": [
    "%%time\n",
    "train_features.drop(['mov_count', 'rated_bycust', 'rate_each_day',\n",
    "                     'mov_day_count', 'cust_day_count', 'cust_days_since',\n",
    "                     'mov_days_since', 'cust_avg_rating', 'mov_day_avg',\n",
    "                     'cust_day_avg', 'avg_rate_mov_yr', 'avg_rate_cst_yr',\n",
    "                     'global_mean', 'cust_pc'], 1, inplace=True)\n",
    "quiz_features.drop(['mov_count', 'rated_bycust', 'rate_each_day',\n",
    "                    'mov_day_count', 'cust_day_count', 'cust_days_since',\n",
    "                    'mov_days_since', 'cust_avg_rating', 'mov_day_avg',\n",
    "                    'cust_day_avg', 'avg_rate_mov_yr', 'avg_rate_cst_yr',\n",
    "                    'global_mean', 'cust_pc', 'mov_pc'], 1, inplace=True)\n",
    "train_features.info()\n",
    "quiz_features.info()"
   ]
  },
  {
   "cell_type": "code",
   "execution_count": 9,
   "metadata": {},
   "outputs": [
    {
     "name": "stdout",
     "output_type": "stream",
     "text": [
      "Wall time: 8.34 s\n"
     ]
    }
   ],
   "source": [
    "%%time\n",
    "# training set\n",
    "scaler = StandardScaler()\n",
    "X_train = scaler.fit_transform(train_features)\n",
    "y_train = train_target.rating.to_numpy()\n",
    "del train_features, train_target"
   ]
  },
  {
   "cell_type": "code",
   "execution_count": 10,
   "metadata": {},
   "outputs": [
    {
     "name": "stdout",
     "output_type": "stream",
     "text": [
      "Wall time: 126 ms\n"
     ]
    }
   ],
   "source": [
    "%%time\n",
    "# quiz set\n",
    "scaler = StandardScaler()\n",
    "X_test = scaler.fit_transform(quiz_features)\n",
    "y_test = quiz_target.rating.to_numpy()\n",
    "del quiz_features, quiz_target"
   ]
  },
  {
   "cell_type": "markdown",
   "metadata": {},
   "source": [
    "## Assorted GLMs on Basic Features"
   ]
  },
  {
   "cell_type": "code",
   "execution_count": 11,
   "metadata": {},
   "outputs": [
    {
     "name": "stdout",
     "output_type": "stream",
     "text": [
      "R-squared = -0.005657653275320085\n",
      "MAE = 0.9477999095112267\n",
      "RMSE = 1.1306171534350797\n",
      "Wall time: 6.27 s\n"
     ]
    }
   ],
   "source": [
    "%%time\n",
    "lin = LinearRegression(fit_intercept=True, n_jobs=16)\n",
    "lr = lin.fit(X_train, y_train)\n",
    "y_pred = lr.predict(X_test)\n",
    "\n",
    "mae = mean_absolute_error(y_test, y_pred)\n",
    "rmse = mean_squared_error(y_test, y_pred, squared=False)\n",
    "\n",
    "print('R-squared =', lr.score(X_test, y_test))\n",
    "print('MAE =', mae)\n",
    "print('RMSE =', rmse)"
   ]
  },
  {
   "cell_type": "code",
   "execution_count": 12,
   "metadata": {},
   "outputs": [
    {
     "name": "stdout",
     "output_type": "stream",
     "text": [
      "R-squared = -0.0055600658534387115\n",
      "MAE = 0.9477931331537993\n",
      "RMSE = 1.130562295457532\n",
      "Wall time: 4.28 s\n"
     ]
    }
   ],
   "source": [
    "%%time\n",
    "lars_reg = Lars(random_state=761)\n",
    "larr = lars_reg.fit(X_train, y_train)\n",
    "y_pred = larr.predict(X_test)\n",
    "\n",
    "mae = mean_absolute_error(y_test, y_pred)\n",
    "rmse = mean_squared_error(y_test, y_pred, squared=False)\n",
    "\n",
    "print('R-squared =', larr.score(X_test, y_test))\n",
    "print('MAE =', mae)\n",
    "print('RMSE =', rmse)"
   ]
  },
  {
   "cell_type": "code",
   "execution_count": 13,
   "metadata": {},
   "outputs": [
    {
     "name": "stdout",
     "output_type": "stream",
     "text": [
      "R-squared = -0.0056576532753283\n",
      "MAE = 0.9477999095114904\n",
      "RMSE = 1.1306171534350842\n",
      "Wall time: 4.31 s\n"
     ]
    }
   ],
   "source": [
    "%%time\n",
    "omp = OrthogonalMatchingPursuit(n_nonzero_coefs=4)\n",
    "om = omp.fit(X_train, y_train)\n",
    "y_pred = om.predict(X_test)\n",
    "\n",
    "mae = mean_absolute_error(y_test, y_pred)\n",
    "rmse = mean_squared_error(y_test, y_pred, squared=False)\n",
    "\n",
    "print('R-squared =', om.score(X_test, y_test))\n",
    "print('MAE =', mae)\n",
    "print('RMSE =', rmse)"
   ]
  },
  {
   "cell_type": "code",
   "execution_count": 14,
   "metadata": {},
   "outputs": [
    {
     "name": "stdout",
     "output_type": "stream",
     "text": [
      "R-squared = -0.00565765308873778\n",
      "MAE = 0.9477999095037333\n",
      "RMSE = 1.1306171533301965\n",
      "Wall time: 3.39 s\n"
     ]
    }
   ],
   "source": [
    "%%time\n",
    "rid = Ridge(max_iter=10, random_state=413)\n",
    "ridg = rid.fit(X_train, y_train)\n",
    "y_pred = ridg.predict(X_test)\n",
    "\n",
    "mae = mean_absolute_error(y_test, y_pred)\n",
    "rmse = mean_squared_error(y_test, y_pred, squared=False)\n",
    "\n",
    "print('R-squared =', ridg.score(X_test, y_test))\n",
    "print('MAE =', mae)\n",
    "print('RMSE =', rmse)"
   ]
  },
  {
   "cell_type": "code",
   "execution_count": 17,
   "metadata": {},
   "outputs": [
    {
     "name": "stdout",
     "output_type": "stream",
     "text": [
      "-- Epoch 1\n",
      "Norm: 0.02, NNZs: 4, Bias: 3.601512, T: 96304740, Avg. loss: 0.584810\n",
      "Total training time: 5.79 seconds.\n",
      "-- Epoch 2\n",
      "Norm: 0.02, NNZs: 4, Bias: 3.601994, T: 192609480, Avg. loss: 0.584779\n",
      "Total training time: 11.55 seconds.\n",
      "-- Epoch 3\n",
      "Norm: 0.02, NNZs: 4, Bias: 3.602228, T: 288914220, Avg. loss: 0.584773\n",
      "Total training time: 17.34 seconds.\n",
      "-- Epoch 4\n",
      "Norm: 0.02, NNZs: 4, Bias: 3.602376, T: 385218960, Avg. loss: 0.584770\n",
      "Total training time: 23.11 seconds.\n",
      "-- Epoch 5\n",
      "Norm: 0.02, NNZs: 4, Bias: 3.602482, T: 481523700, Avg. loss: 0.584768\n",
      "Total training time: 28.88 seconds.\n",
      "-- Epoch 6\n",
      "Norm: 0.02, NNZs: 4, Bias: 3.602564, T: 577828440, Avg. loss: 0.584766\n",
      "Total training time: 34.68 seconds.\n",
      "Convergence after 6 epochs took 34.68 seconds\n",
      "R-squared = -0.002966188220161259\n",
      "MAE = 0.9523534646210825\n",
      "RMSE = 1.1291031912519867\n"
     ]
    }
   ],
   "source": [
    "sgdr = SGDRegressor(alpha=5, max_iter=10, shuffle=False, verbose=1, random_state=761)\n",
    "sgd = sgdr.fit(X_train, y_train)\n",
    "y_pred = sgd.predict(X_test)\n",
    "\n",
    "mae = mean_absolute_error(y_test, y_pred)\n",
    "rmse = mean_squared_error(y_test, y_pred, squared=False)\n",
    "\n",
    "print('R-squared =', sgd.score(X_test, y_test))\n",
    "print('MAE =', mae)\n",
    "print('RMSE =', rmse)"
   ]
  },
  {
   "cell_type": "markdown",
   "metadata": {},
   "source": [
    "## With Additional Count Features"
   ]
  },
  {
   "cell_type": "code",
   "execution_count": 4,
   "metadata": {},
   "outputs": [
    {
     "name": "stdout",
     "output_type": "stream",
     "text": [
      "<class 'pandas.core.frame.DataFrame'>\n",
      "RangeIndex: 96304740 entries, 0 to 96304739\n",
      "Data columns (total 11 columns):\n",
      " #   Column           Dtype \n",
      "---  ------           ----- \n",
      " 0   mov_id           int16 \n",
      " 1   cust_id          int32 \n",
      " 2   day_rated        int16 \n",
      " 3   mov_year         int16 \n",
      " 4   mov_count        int32 \n",
      " 5   rated_bycust     int16 \n",
      " 6   rate_each_day    int32 \n",
      " 7   mov_day_count    uint16\n",
      " 8   cust_day_count   int16 \n",
      " 9   cust_days_since  int16 \n",
      " 10  mov_days_since   int16 \n",
      "dtypes: int16(7), int32(3), uint16(1)\n",
      "memory usage: 2.5 GB\n",
      "<class 'pandas.core.frame.DataFrame'>\n",
      "RangeIndex: 1408395 entries, 0 to 1408394\n",
      "Data columns (total 11 columns):\n",
      " #   Column           Non-Null Count    Dtype \n",
      "---  ------           --------------    ----- \n",
      " 0   mov_id           1408395 non-null  int16 \n",
      " 1   cust_id          1408395 non-null  int32 \n",
      " 2   day_rated        1408395 non-null  int16 \n",
      " 3   mov_year         1408395 non-null  int16 \n",
      " 4   mov_count        1408395 non-null  int32 \n",
      " 5   rated_bycust     1408395 non-null  int16 \n",
      " 6   rate_each_day    1408395 non-null  int32 \n",
      " 7   mov_day_count    1408395 non-null  uint16\n",
      " 8   cust_day_count   1408395 non-null  int16 \n",
      " 9   cust_days_since  1408395 non-null  int16 \n",
      " 10  mov_days_since   1408395 non-null  int16 \n",
      "dtypes: int16(7), int32(3), uint16(1)\n",
      "memory usage: 37.6 MB\n",
      "Wall time: 3.87 s\n"
     ]
    }
   ],
   "source": [
    "%%time\n",
    "train_features.drop(['cust_avg_rating', 'mov_day_avg', 'cust_day_avg',\n",
    "                     'avg_rate_mov_yr', 'avg_rate_cst_yr',\n",
    "                     'global_mean', 'cust_pc'], 1, inplace=True)\n",
    "quiz_features.drop(['cust_avg_rating', 'mov_day_avg', 'cust_day_avg',\n",
    "                    'avg_rate_mov_yr', 'avg_rate_cst_yr',\n",
    "                    'global_mean', 'cust_pc', 'mov_pc'], 1, inplace=True)\n",
    "train_features.info()\n",
    "quiz_features.info()"
   ]
  },
  {
   "cell_type": "code",
   "execution_count": 5,
   "metadata": {},
   "outputs": [
    {
     "name": "stdout",
     "output_type": "stream",
     "text": [
      "Wall time: 24.1 s\n"
     ]
    }
   ],
   "source": [
    "%%time\n",
    "# training set\n",
    "scaler = StandardScaler()\n",
    "X_train = scaler.fit_transform(train_features)\n",
    "y_train = train_target.rating.to_numpy()\n",
    "del train_features, train_target"
   ]
  },
  {
   "cell_type": "code",
   "execution_count": 6,
   "metadata": {},
   "outputs": [
    {
     "name": "stdout",
     "output_type": "stream",
     "text": [
      "Wall time: 401 ms\n"
     ]
    }
   ],
   "source": [
    "%%time\n",
    "# quiz set\n",
    "scaler = StandardScaler()\n",
    "X_test = scaler.fit_transform(quiz_features)\n",
    "y_test = quiz_target.rating.to_numpy()\n",
    "del quiz_features, quiz_target"
   ]
  },
  {
   "cell_type": "markdown",
   "metadata": {},
   "source": [
    "### LinearRegression\n",
    "The Linear Regression model took 27 seconds to process, consumed more memory, and produced a higher RMSE that the models that follow, so it will be discarded."
   ]
  },
  {
   "cell_type": "code",
   "execution_count": 11,
   "metadata": {},
   "outputs": [
    {
     "name": "stdout",
     "output_type": "stream",
     "text": [
      "R-squared = 0.005685461355062982\n",
      "MAE = 0.9346952600955611\n",
      "RMSE = 1.1242227861283012\n",
      "Wall time: 14.5 s\n"
     ]
    }
   ],
   "source": [
    "%%time\n",
    "lars_reg = Lars(random_state=761)\n",
    "larr = lars_reg.fit(X_train, y_train)\n",
    "y_pred = larr.predict(X_test)\n",
    "\n",
    "mae = mean_absolute_error(y_test, y_pred)\n",
    "rmse = mean_squared_error(y_test, y_pred, squared=False)\n",
    "\n",
    "print('R-squared =', larr.score(X_test, y_test))\n",
    "print('MAE =', mae)\n",
    "print('RMSE =', rmse)"
   ]
  },
  {
   "cell_type": "code",
   "execution_count": 12,
   "metadata": {},
   "outputs": [
    {
     "name": "stdout",
     "output_type": "stream",
     "text": [
      "R-squared = 0.005665038814680723\n",
      "MAE = 0.934685577071549\n",
      "RMSE = 1.1242343314524736\n",
      "Wall time: 13 s\n"
     ]
    }
   ],
   "source": [
    "%%time\n",
    "omp = OrthogonalMatchingPursuit(n_nonzero_coefs=10)\n",
    "om = omp.fit(X_train, y_train)\n",
    "y_pred = om.predict(X_test)\n",
    "\n",
    "mae = mean_absolute_error(y_test, y_pred)\n",
    "rmse = mean_squared_error(y_test, y_pred, squared=False)\n",
    "\n",
    "print('R-squared =', om.score(X_test, y_test))\n",
    "print('MAE =', mae)\n",
    "print('RMSE =', rmse)"
   ]
  },
  {
   "cell_type": "code",
   "execution_count": 7,
   "metadata": {},
   "outputs": [
    {
     "name": "stdout",
     "output_type": "stream",
     "text": [
      "R-squared = 0.005665241741847349\n",
      "MAE = 0.9346854823682469\n",
      "RMSE = 1.124234216733738\n",
      "Wall time: 10.6 s\n"
     ]
    }
   ],
   "source": [
    "%%time\n",
    "rid = Ridge(max_iter=10, random_state=413)\n",
    "ridg = rid.fit(X_train, y_train)\n",
    "y_pred = ridg.predict(X_test)\n",
    "\n",
    "mae = mean_absolute_error(y_test, y_pred)\n",
    "rmse = mean_squared_error(y_test, y_pred, squared=False)\n",
    "\n",
    "print('R-squared =', ridg.score(X_test, y_test))\n",
    "print('MAE =', mae)\n",
    "print('RMSE =', rmse)"
   ]
  },
  {
   "cell_type": "code",
   "execution_count": 13,
   "metadata": {},
   "outputs": [
    {
     "name": "stdout",
     "output_type": "stream",
     "text": [
      "-- Epoch 1\n",
      "Norm: 0.05, NNZs: 11, Bias: 3.601280, T: 96304740, Avg. loss: 0.576859\n",
      "Total training time: 7.37 seconds.\n",
      "-- Epoch 2\n",
      "Norm: 0.05, NNZs: 11, Bias: 3.601772, T: 192609480, Avg. loss: 0.576796\n",
      "Total training time: 14.38 seconds.\n",
      "-- Epoch 3\n",
      "Norm: 0.05, NNZs: 11, Bias: 3.602009, T: 288914220, Avg. loss: 0.576782\n",
      "Total training time: 21.24 seconds.\n",
      "-- Epoch 4\n",
      "Norm: 0.05, NNZs: 11, Bias: 3.602160, T: 385218960, Avg. loss: 0.576774\n",
      "Total training time: 28.12 seconds.\n",
      "-- Epoch 5\n",
      "Norm: 0.05, NNZs: 11, Bias: 3.602267, T: 481523700, Avg. loss: 0.576769\n",
      "Total training time: 35.00 seconds.\n",
      "-- Epoch 6\n",
      "Norm: 0.05, NNZs: 11, Bias: 3.602350, T: 577828440, Avg. loss: 0.576765\n",
      "Total training time: 41.88 seconds.\n",
      "Convergence after 6 epochs took 41.88 seconds\n",
      "R-squared = 0.003944034984914024\n",
      "MAE = 0.9475332309675853\n",
      "RMSE = 1.125206828242749\n"
     ]
    }
   ],
   "source": [
    "sgdr = SGDRegressor(alpha=3, max_iter=10, shuffle=False, verbose=1, random_state=761)\n",
    "sgd = sgdr.fit(X_train, y_train)\n",
    "y_pred = sgd.predict(X_test)\n",
    "\n",
    "mae = mean_absolute_error(y_test, y_pred)\n",
    "rmse = mean_squared_error(y_test, y_pred, squared=False)\n",
    "\n",
    "print('R-squared =', sgd.score(X_test, y_test))\n",
    "print('MAE =', mae)\n",
    "print('RMSE =', rmse)"
   ]
  },
  {
   "cell_type": "markdown",
   "metadata": {},
   "source": [
    "## With Additional Means Features, No Counts"
   ]
  },
  {
   "cell_type": "code",
   "execution_count": 4,
   "metadata": {},
   "outputs": [
    {
     "name": "stdout",
     "output_type": "stream",
     "text": [
      "<class 'pandas.core.frame.DataFrame'>\n",
      "RangeIndex: 96304740 entries, 0 to 96304739\n",
      "Data columns (total 9 columns):\n",
      " #   Column           Dtype  \n",
      "---  ------           -----  \n",
      " 0   mov_id           int16  \n",
      " 1   cust_id          int32  \n",
      " 2   day_rated        int16  \n",
      " 3   mov_year         int16  \n",
      " 4   cust_avg_rating  float32\n",
      " 5   mov_day_avg      float32\n",
      " 6   cust_day_avg     float32\n",
      " 7   avg_rate_mov_yr  float32\n",
      " 8   avg_rate_cst_yr  float32\n",
      "dtypes: float32(5), int16(3), int32(1)\n",
      "memory usage: 2.7 GB\n",
      "<class 'pandas.core.frame.DataFrame'>\n",
      "RangeIndex: 1408395 entries, 0 to 1408394\n",
      "Data columns (total 9 columns):\n",
      " #   Column           Non-Null Count    Dtype  \n",
      "---  ------           --------------    -----  \n",
      " 0   mov_id           1408395 non-null  int16  \n",
      " 1   cust_id          1408395 non-null  int32  \n",
      " 2   day_rated        1408395 non-null  int16  \n",
      " 3   mov_year         1408395 non-null  int16  \n",
      " 4   cust_avg_rating  1408395 non-null  float32\n",
      " 5   mov_day_avg      1408395 non-null  float32\n",
      " 6   cust_day_avg     1408395 non-null  float32\n",
      " 7   avg_rate_mov_yr  1408395 non-null  float32\n",
      " 8   avg_rate_cst_yr  1408395 non-null  float32\n",
      "dtypes: float32(5), int16(3), int32(1)\n",
      "memory usage: 40.3 MB\n",
      "Wall time: 2.33 s\n"
     ]
    }
   ],
   "source": [
    "%%time\n",
    "train_features.drop(['mov_count', 'rated_bycust', 'rate_each_day',\n",
    "                     'mov_day_count', 'cust_day_count',\n",
    "                     'cust_days_since', 'mov_days_since', \n",
    "                     'global_mean', 'cust_pc'], 1, inplace=True)\n",
    "quiz_features.drop(['mov_count', 'rated_bycust', 'rate_each_day',\n",
    "                    'mov_day_count', 'cust_day_count',\n",
    "                    'cust_days_since', 'mov_days_since',\n",
    "                    'global_mean', 'cust_pc', 'mov_pc'], 1, inplace=True)\n",
    "train_features.info()\n",
    "quiz_features.info()"
   ]
  },
  {
   "cell_type": "code",
   "execution_count": 5,
   "metadata": {},
   "outputs": [
    {
     "name": "stdout",
     "output_type": "stream",
     "text": [
      "Wall time: 20.2 s\n"
     ]
    }
   ],
   "source": [
    "%%time\n",
    "# training set\n",
    "scaler = StandardScaler()\n",
    "X_train = scaler.fit_transform(train_features)\n",
    "y_train = train_target.rating.to_numpy()\n",
    "del train_features, train_target"
   ]
  },
  {
   "cell_type": "code",
   "execution_count": 6,
   "metadata": {},
   "outputs": [
    {
     "name": "stdout",
     "output_type": "stream",
     "text": [
      "Wall time: 380 ms\n"
     ]
    }
   ],
   "source": [
    "%%time\n",
    "# quiz set\n",
    "scaler = StandardScaler()\n",
    "X_test = scaler.fit_transform(quiz_features)\n",
    "y_test = quiz_target.rating.to_numpy()\n",
    "del quiz_features, quiz_target"
   ]
  },
  {
   "cell_type": "code",
   "execution_count": 7,
   "metadata": {},
   "outputs": [
    {
     "name": "stdout",
     "output_type": "stream",
     "text": [
      "R-squared = 0.035447422767870274\n",
      "MAE = 0.8699911031854564\n",
      "RMSE = 1.107269765713606\n",
      "Wall time: 10.1 s\n"
     ]
    }
   ],
   "source": [
    "%%time\n",
    "lars_reg = Lars(random_state=761)\n",
    "larr = lars_reg.fit(X_train, y_train)\n",
    "y_pred = larr.predict(X_test)\n",
    "\n",
    "mae = mean_absolute_error(y_test, y_pred)\n",
    "rmse = mean_squared_error(y_test, y_pred, squared=False)\n",
    "\n",
    "print('R-squared =', larr.score(X_test, y_test))\n",
    "print('MAE =', mae)\n",
    "print('RMSE =', rmse)"
   ]
  },
  {
   "cell_type": "code",
   "execution_count": 11,
   "metadata": {},
   "outputs": [
    {
     "name": "stdout",
     "output_type": "stream",
     "text": [
      "R-squared = 0.03408664149530427\n",
      "MAE = 0.8705325083227212\n",
      "RMSE = 1.1080505530668545\n",
      "Wall time: 10.3 s\n"
     ]
    }
   ],
   "source": [
    "%%time\n",
    "omp = OrthogonalMatchingPursuit(n_nonzero_coefs=9)\n",
    "om = omp.fit(X_train, y_train)\n",
    "y_pred = om.predict(X_test)\n",
    "\n",
    "mae = mean_absolute_error(y_test, y_pred)\n",
    "rmse = mean_squared_error(y_test, y_pred, squared=False)\n",
    "\n",
    "print('R-squared =', om.score(X_test, y_test))\n",
    "print('MAE =', mae)\n",
    "print('RMSE =', rmse)"
   ]
  },
  {
   "cell_type": "code",
   "execution_count": 9,
   "metadata": {},
   "outputs": [
    {
     "name": "stdout",
     "output_type": "stream",
     "text": [
      "R-squared = 0.03408665052436877\n",
      "MAE = 0.8705325047437593\n",
      "RMSE = 1.1080505478879947\n",
      "Wall time: 8.67 s\n"
     ]
    }
   ],
   "source": [
    "%%time\n",
    "rid = Ridge(max_iter=10, random_state=413)\n",
    "ridg = rid.fit(X_train, y_train)\n",
    "y_pred = ridg.predict(X_test)\n",
    "\n",
    "mae = mean_absolute_error(y_test, y_pred)\n",
    "rmse = mean_squared_error(y_test, y_pred, squared=False)\n",
    "\n",
    "print('R-squared =', ridg.score(X_test, y_test))\n",
    "print('MAE =', mae)\n",
    "print('RMSE =', rmse)"
   ]
  },
  {
   "cell_type": "code",
   "execution_count": 10,
   "metadata": {},
   "outputs": [
    {
     "name": "stdout",
     "output_type": "stream",
     "text": [
      "-- Epoch 1\n",
      "Norm: 0.21, NNZs: 9, Bias: 3.600170, T: 96304740, Avg. loss: 0.403791\n",
      "Total training time: 7.11 seconds.\n",
      "-- Epoch 2\n",
      "Norm: 0.21, NNZs: 9, Bias: 3.600669, T: 192609480, Avg. loss: 0.403747\n",
      "Total training time: 14.14 seconds.\n",
      "-- Epoch 3\n",
      "Norm: 0.21, NNZs: 9, Bias: 3.600927, T: 288914220, Avg. loss: 0.403738\n",
      "Total training time: 20.81 seconds.\n",
      "-- Epoch 4\n",
      "Norm: 0.21, NNZs: 9, Bias: 3.601098, T: 385218960, Avg. loss: 0.403733\n",
      "Total training time: 27.46 seconds.\n",
      "-- Epoch 5\n",
      "Norm: 0.21, NNZs: 9, Bias: 3.601225, T: 481523700, Avg. loss: 0.403729\n",
      "Total training time: 34.12 seconds.\n",
      "-- Epoch 6\n",
      "Norm: 0.21, NNZs: 9, Bias: 3.601326, T: 577828440, Avg. loss: 0.403727\n",
      "Total training time: 40.80 seconds.\n",
      "Convergence after 6 epochs took 40.80 seconds\n",
      "R-squared = 0.13353555081827717\n",
      "MAE = 0.8620877823296546\n",
      "RMSE = 1.049459934046641\n"
     ]
    }
   ],
   "source": [
    "sgdr = SGDRegressor(alpha=3, max_iter=10, shuffle=False, verbose=1, random_state=761)\n",
    "sgd = sgdr.fit(X_train, y_train)\n",
    "y_pred = sgd.predict(X_test)\n",
    "\n",
    "mae = mean_absolute_error(y_test, y_pred)\n",
    "rmse = mean_squared_error(y_test, y_pred, squared=False)\n",
    "\n",
    "print('R-squared =', sgd.score(X_test, y_test))\n",
    "print('MAE =', mae)\n",
    "print('RMSE =', rmse)"
   ]
  },
  {
   "cell_type": "markdown",
   "metadata": {},
   "source": [
    "### Note:\n",
    "The SGDRegressor showed significantly more improvement with these features than the other linear models."
   ]
  },
  {
   "cell_type": "markdown",
   "metadata": {},
   "source": [
    "## With Counts and Means Features"
   ]
  },
  {
   "cell_type": "code",
   "execution_count": 4,
   "metadata": {},
   "outputs": [
    {
     "name": "stdout",
     "output_type": "stream",
     "text": [
      "<class 'pandas.core.frame.DataFrame'>\n",
      "RangeIndex: 96304740 entries, 0 to 96304739\n",
      "Data columns (total 16 columns):\n",
      " #   Column           Dtype  \n",
      "---  ------           -----  \n",
      " 0   mov_id           int16  \n",
      " 1   cust_id          int32  \n",
      " 2   day_rated        int16  \n",
      " 3   mov_year         int16  \n",
      " 4   mov_count        int32  \n",
      " 5   rated_bycust     int16  \n",
      " 6   rate_each_day    int32  \n",
      " 7   mov_day_count    uint16 \n",
      " 8   cust_day_count   int16  \n",
      " 9   cust_days_since  int16  \n",
      " 10  mov_days_since   int16  \n",
      " 11  cust_avg_rating  float32\n",
      " 12  mov_day_avg      float32\n",
      " 13  cust_day_avg     float32\n",
      " 14  avg_rate_mov_yr  float32\n",
      " 15  avg_rate_cst_yr  float32\n",
      "dtypes: float32(5), int16(7), int32(3), uint16(1)\n",
      "memory usage: 4.3 GB\n",
      "<class 'pandas.core.frame.DataFrame'>\n",
      "RangeIndex: 1408395 entries, 0 to 1408394\n",
      "Data columns (total 16 columns):\n",
      " #   Column           Non-Null Count    Dtype  \n",
      "---  ------           --------------    -----  \n",
      " 0   mov_id           1408395 non-null  int16  \n",
      " 1   cust_id          1408395 non-null  int32  \n",
      " 2   day_rated        1408395 non-null  int16  \n",
      " 3   mov_year         1408395 non-null  int16  \n",
      " 4   mov_count        1408395 non-null  int32  \n",
      " 5   rated_bycust     1408395 non-null  int16  \n",
      " 6   rate_each_day    1408395 non-null  int32  \n",
      " 7   mov_day_count    1408395 non-null  uint16 \n",
      " 8   cust_day_count   1408395 non-null  int16  \n",
      " 9   cust_days_since  1408395 non-null  int16  \n",
      " 10  mov_days_since   1408395 non-null  int16  \n",
      " 11  cust_avg_rating  1408395 non-null  float32\n",
      " 12  mov_day_avg      1408395 non-null  float32\n",
      " 13  cust_day_avg     1408395 non-null  float32\n",
      " 14  avg_rate_mov_yr  1408395 non-null  float32\n",
      " 15  avg_rate_cst_yr  1408395 non-null  float32\n",
      "dtypes: float32(5), int16(7), int32(3), uint16(1)\n",
      "memory usage: 64.5 MB\n",
      "Wall time: 4.94 s\n"
     ]
    }
   ],
   "source": [
    "%%time\n",
    "train_features.drop(['global_mean', 'cust_pc'], 1, inplace=True)\n",
    "quiz_features.drop(['global_mean', 'cust_pc', 'mov_pc'], 1, inplace=True)\n",
    "train_features.info()\n",
    "quiz_features.info()"
   ]
  },
  {
   "cell_type": "code",
   "execution_count": 5,
   "metadata": {},
   "outputs": [
    {
     "name": "stdout",
     "output_type": "stream",
     "text": [
      "Wall time: 52.5 s\n"
     ]
    }
   ],
   "source": [
    "%%time\n",
    "# training set\n",
    "scaler = StandardScaler()\n",
    "X_train = scaler.fit_transform(train_features)\n",
    "y_train = train_target.rating.to_numpy()\n",
    "del train_features, train_target"
   ]
  },
  {
   "cell_type": "code",
   "execution_count": 6,
   "metadata": {},
   "outputs": [
    {
     "name": "stdout",
     "output_type": "stream",
     "text": [
      "Wall time: 749 ms\n"
     ]
    }
   ],
   "source": [
    "%%time\n",
    "# quiz set\n",
    "scaler = StandardScaler()\n",
    "X_test = scaler.fit_transform(quiz_features)\n",
    "y_test = quiz_target.rating.to_numpy()\n",
    "del quiz_features, quiz_target"
   ]
  },
  {
   "cell_type": "code",
   "execution_count": 7,
   "metadata": {},
   "outputs": [
    {
     "name": "stdout",
     "output_type": "stream",
     "text": [
      "R-squared = 0.03609202692092284\n",
      "MAE = 0.8696534784332124\n",
      "RMSE = 1.1068997133209384\n",
      "Wall time: 21.2 s\n"
     ]
    }
   ],
   "source": [
    "%%time\n",
    "lars_reg = Lars(random_state=761)\n",
    "larr = lars_reg.fit(X_train, y_train)\n",
    "y_pred = larr.predict(X_test)\n",
    "\n",
    "mae = mean_absolute_error(y_test, y_pred)\n",
    "rmse = mean_squared_error(y_test, y_pred, squared=False)\n",
    "\n",
    "print('R-squared =', larr.score(X_test, y_test))\n",
    "print('MAE =', mae)\n",
    "print('RMSE =', rmse)"
   ]
  },
  {
   "cell_type": "code",
   "execution_count": 8,
   "metadata": {},
   "outputs": [
    {
     "name": "stdout",
     "output_type": "stream",
     "text": [
      "R-squared = 0.03399110038456965\n",
      "MAE = 0.8704942918997729\n",
      "RMSE = 1.1081053518549417\n",
      "Wall time: 17.4 s\n"
     ]
    }
   ],
   "source": [
    "%%time\n",
    "rid = Ridge(max_iter=10, random_state=413)\n",
    "ridg = rid.fit(X_train, y_train)\n",
    "y_pred = ridg.predict(X_test)\n",
    "\n",
    "mae = mean_absolute_error(y_test, y_pred)\n",
    "rmse = mean_squared_error(y_test, y_pred, squared=False)\n",
    "\n",
    "print('R-squared =', ridg.score(X_test, y_test))\n",
    "print('MAE =', mae)\n",
    "print('RMSE =', rmse)"
   ]
  },
  {
   "cell_type": "code",
   "execution_count": 9,
   "metadata": {},
   "outputs": [
    {
     "name": "stdout",
     "output_type": "stream",
     "text": [
      "-- Epoch 1\n",
      "Norm: 0.21, NNZs: 16, Bias: 3.600075, T: 96304740, Avg. loss: 0.403287\n",
      "Total training time: 7.93 seconds.\n",
      "-- Epoch 2\n",
      "Norm: 0.21, NNZs: 16, Bias: 3.600581, T: 192609480, Avg. loss: 0.403225\n",
      "Total training time: 15.51 seconds.\n",
      "-- Epoch 3\n",
      "Norm: 0.21, NNZs: 16, Bias: 3.600841, T: 288914220, Avg. loss: 0.403211\n",
      "Total training time: 22.88 seconds.\n",
      "-- Epoch 4\n",
      "Norm: 0.21, NNZs: 16, Bias: 3.601012, T: 385218960, Avg. loss: 0.403203\n",
      "Total training time: 30.25 seconds.\n",
      "-- Epoch 5\n",
      "Norm: 0.21, NNZs: 16, Bias: 3.601139, T: 481523700, Avg. loss: 0.403198\n",
      "Total training time: 37.61 seconds.\n",
      "-- Epoch 6\n",
      "Norm: 0.21, NNZs: 16, Bias: 3.601240, T: 577828440, Avg. loss: 0.403193\n",
      "Total training time: 44.98 seconds.\n",
      "Convergence after 6 epochs took 44.98 seconds\n",
      "R-squared = 0.13480611346133642\n",
      "MAE = 0.8609703852257143\n",
      "RMSE = 1.0486902003514613\n"
     ]
    }
   ],
   "source": [
    "sgdr = SGDRegressor(alpha=3, max_iter=10, shuffle=False, verbose=1, random_state=761)\n",
    "sgd = sgdr.fit(X_train, y_train)\n",
    "y_pred = sgd.predict(X_test)\n",
    "\n",
    "mae = mean_absolute_error(y_test, y_pred)\n",
    "rmse = mean_squared_error(y_test, y_pred, squared=False)\n",
    "\n",
    "print('R-squared =', sgd.score(X_test, y_test))\n",
    "print('MAE =', mae)\n",
    "print('RMSE =', rmse)"
   ]
  },
  {
   "cell_type": "code",
   "execution_count": null,
   "metadata": {},
   "outputs": [],
   "source": []
  },
  {
   "cell_type": "code",
   "execution_count": null,
   "metadata": {
    "scrolled": false
   },
   "outputs": [],
   "source": [
    "%%time\n",
    "hgbr = HistGradientBoostingRegressor(\n",
    "    learning_rate=0.1, max_iter=1300,\n",
    "    max_leaf_nodes=401, random_state=213, verbose=1)\n",
    "hgb = hgbr.fit(X_train, y_train)"
   ]
  },
  {
   "cell_type": "code",
   "execution_count": 15,
   "metadata": {},
   "outputs": [
    {
     "name": "stdout",
     "output_type": "stream",
     "text": [
      "R-squared = 0.2233471942381995\n",
      "MAE = 0.7832421162147075\n",
      "RMSE = 0.9935825292229005\n",
      "Wall time: 9.28 s\n"
     ]
    }
   ],
   "source": [
    "%%time\n",
    "print('R-squared =', hgb.score(X_test, y_test))\n",
    "y_pred = hgb.predict(X_test)\n",
    "\n",
    "mae = mean_absolute_error(y_test, y_pred)\n",
    "rmse = mean_squared_error(y_test, y_pred, squared=False)\n",
    "\n",
    "print('MAE =', mae)\n",
    "print('RMSE =', rmse)"
   ]
  },
  {
   "cell_type": "markdown",
   "metadata": {},
   "source": [
    "learning_rate=0.1, max_iter=500, max_leaf_nodes=301, random_state=213\n",
    "\n",
    "R-squared = 0.22351579447811798\n",
    "\n",
    "MAE = 0.784489468931582\n",
    "\n",
    "RMSE = 0.9934746770758374\n",
    "\n",
    "48 min"
   ]
  },
  {
   "cell_type": "markdown",
   "metadata": {},
   "source": [
    "mov_id, cust_id, day_rated, mov_year_log, mov_count log, rated_bycust^1.5,\n",
    "rate_each_day inv outliers adj 191500 134500, mov_day_count log,\n",
    "cust_day_count^0.8, tr_mov_avg_rating^1.5, te_mov_avg_rating^0.9, cust_avg_rating\n",
    "R-squared = 0.22382965797933052\n",
    "MAE = 0.7870443034889095\n",
    "RMSE = 0.9932738700571773\n",
    "\n",
    "mov_id, cust_id, mov_year_log, mov_count log, rated_bycust^1.5, rate_each_day inv outliers adj 191500 124500,\n",
    "mov_day_count log, cust_day_count^0.8, tr_mov_avg_rating^1.5, te_mov_avg_rating^0.9,\n",
    "R-squared = 0.1264051195046394\n",
    "MAE = 0.8530490804087013\n",
    "RMSE = 1.0537692682359234\n",
    "\n",
    "mov_id, cust_id, mov_year mov_count log, rated_bycust^1.5, rate_each_day inv outliers adj 191500 124500,\n",
    "mov_day_count log, cust_day_count^0.8\n",
    "R-squared = 0.013444013633980734\n",
    "MAE = 0.9293510303091971\n",
    "RMSE = 1.1198280888011323\n",
    "\n",
    "On mov_id and cust_id ONLY:\n",
    "R-squared = -0.004223546413989032\n",
    "MAE = 0.9528487913115911\n",
    "RMSE = 1.1298107138487197\n",
    "\n",
    "WOW! BAD\n",
    "On mov_id, cust_id, and day_rated ONLY:\n",
    "R-squared = -0.012808924650737241\n",
    "MAE = 0.9542767933749646\n",
    "RMSE = 1.1346299639222615\n",
    "\n",
    "Drop last 8 Baseline:\n",
    "R-squared = 0.008494984714336185\n",
    "MAE = 0.9307416975240954\n",
    "RMSE = 1.1226333672925477\n",
    "\n",
    "Baseline:\n",
    "R-squared = 0.04866193461770418\n",
    "MAE = 0.8631959599761593\n",
    "RMSE = 1.0996587285938078"
   ]
  },
  {
   "cell_type": "code",
   "execution_count": null,
   "metadata": {},
   "outputs": [],
   "source": [
    "%%time\n",
    "# training set\n",
    "scaler = StandardScaler()\n",
    "X_train = scaler.fit_transform(train_features)\n",
    "y_train = train_ratings.rating.to_numpy()\n",
    "del train_features, train_ratings"
   ]
  },
  {
   "cell_type": "code",
   "execution_count": null,
   "metadata": {},
   "outputs": [],
   "source": [
    "%%time\n",
    "# test set\n",
    "scaler = StandardScaler()\n",
    "X_test = scaler.fit_transform(test_features)\n",
    "y_test = test_ratings.rating.to_numpy()\n",
    "del test_features, test_ratings"
   ]
  }
 ],
 "metadata": {
  "kernelspec": {
   "display_name": "Python 3",
   "language": "python",
   "name": "python3"
  },
  "language_info": {
   "codemirror_mode": {
    "name": "ipython",
    "version": 3
   },
   "file_extension": ".py",
   "mimetype": "text/x-python",
   "name": "python",
   "nbconvert_exporter": "python",
   "pygments_lexer": "ipython3",
   "version": "3.7.9"
  }
 },
 "nbformat": 4,
 "nbformat_minor": 4
}
