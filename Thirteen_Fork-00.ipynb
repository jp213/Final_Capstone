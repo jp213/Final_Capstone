{
 "cells": [
  {
   "cell_type": "markdown",
   "metadata": {},
   "source": [
    "# Final Capstone\n",
    "\n",
    "## Notebook 1: Overview and DataFrame Manipulation"
   ]
  },
  {
   "cell_type": "code",
   "execution_count": 1,
   "metadata": {},
   "outputs": [],
   "source": [
    "import time\n",
    "from datetime import datetime\n",
    "start_time = time.perf_counter()\n",
    "import numpy as np\n",
    "import pandas as pd\n",
    "pd.set_option('display.float_format', '{:.2f}'.format)"
   ]
  },
  {
   "cell_type": "code",
   "execution_count": 2,
   "metadata": {},
   "outputs": [],
   "source": [
    "base_path = 'C:/Users/jnpol/Documents/DS/Data Science/UL/'\n",
    "\n",
    "def merge_files(file_list, csv_file):\n",
    "    if not os.path.isfile(base_path + csv_file):\n",
    "        data = open(csv_file, mode='w')\n",
    "        row = list()\n",
    "        files = file_list\n",
    "        \n",
    "        for file in files:\n",
    "            print('Reading from {}...'.format(file))\n",
    "            with open(file) as f:\n",
    "                for line in f:\n",
    "                    del row[:]\n",
    "                    line = line.strip()\n",
    "                    if line.endswith(':'):\n",
    "                        movie_id = line.replace(':', '')\n",
    "                    else:\n",
    "                        row = [x for x in line.split(',')]\n",
    "                        row.insert(0, movie_id)\n",
    "                        data.write(','.join(row))\n",
    "                        data.write('\\n')\n",
    "            print('Done.\\n')\n",
    "        data.close()\n",
    "        \n",
    "probe_path = [base_path + 'probe.txt']\n",
    "data_path = [base_path + 'data_1_1-4499.txt',\n",
    "             base_path + 'data_2_4500-9210.txt',\n",
    "             base_path + 'data_3_9211-13367.txt',\n",
    "             base_path + 'data_4_13368-17770.txt']\n",
    "merge_files(probe_path, 'probe.csv')\n",
    "merge_files(data_path, 'data.csv')"
   ]
  },
  {
   "cell_type": "code",
   "execution_count": 3,
   "metadata": {},
   "outputs": [
    {
     "name": "stdout",
     "output_type": "stream",
     "text": [
      "<class 'pandas.core.frame.DataFrame'>\n",
      "RangeIndex: 17770 entries, 0 to 17769\n",
      "Data columns (total 3 columns):\n",
      " #   Column     Non-Null Count  Dtype \n",
      "---  ------     --------------  ----- \n",
      " 0   mov_id     17770 non-null  int64 \n",
      " 1   mov_year   17770 non-null  int64 \n",
      " 2   mov_title  17770 non-null  object\n",
      "dtypes: int64(2), object(1)\n",
      "memory usage: 416.6+ KB\n"
     ]
    },
    {
     "data": {
      "text/html": [
       "<div>\n",
       "<style scoped>\n",
       "    .dataframe tbody tr th:only-of-type {\n",
       "        vertical-align: middle;\n",
       "    }\n",
       "\n",
       "    .dataframe tbody tr th {\n",
       "        vertical-align: top;\n",
       "    }\n",
       "\n",
       "    .dataframe thead th {\n",
       "        text-align: right;\n",
       "    }\n",
       "</style>\n",
       "<table border=\"1\" class=\"dataframe\">\n",
       "  <thead>\n",
       "    <tr style=\"text-align: right;\">\n",
       "      <th></th>\n",
       "      <th>mov_id</th>\n",
       "      <th>mov_year</th>\n",
       "      <th>mov_title</th>\n",
       "    </tr>\n",
       "  </thead>\n",
       "  <tbody>\n",
       "    <tr>\n",
       "      <th>0</th>\n",
       "      <td>1</td>\n",
       "      <td>2003</td>\n",
       "      <td>Dinosaur Planet</td>\n",
       "    </tr>\n",
       "    <tr>\n",
       "      <th>1</th>\n",
       "      <td>2</td>\n",
       "      <td>2004</td>\n",
       "      <td>Isle of Man TT 2004 Review</td>\n",
       "    </tr>\n",
       "    <tr>\n",
       "      <th>2</th>\n",
       "      <td>3</td>\n",
       "      <td>1997</td>\n",
       "      <td>Character</td>\n",
       "    </tr>\n",
       "    <tr>\n",
       "      <th>3</th>\n",
       "      <td>4</td>\n",
       "      <td>1994</td>\n",
       "      <td>Paula Abdul's Get Up &amp; Dance</td>\n",
       "    </tr>\n",
       "    <tr>\n",
       "      <th>4</th>\n",
       "      <td>5</td>\n",
       "      <td>2004</td>\n",
       "      <td>The Rise and Fall of ECW</td>\n",
       "    </tr>\n",
       "  </tbody>\n",
       "</table>\n",
       "</div>"
      ],
      "text/plain": [
       "   mov_id  mov_year                     mov_title\n",
       "0       1      2003               Dinosaur Planet\n",
       "1       2      2004    Isle of Man TT 2004 Review\n",
       "2       3      1997                     Character\n",
       "3       4      1994  Paula Abdul's Get Up & Dance\n",
       "4       5      2004      The Rise and Fall of ECW"
      ]
     },
     "metadata": {},
     "output_type": "display_data"
    },
    {
     "name": "stdout",
     "output_type": "stream",
     "text": [
      "\n",
      "<class 'pandas.core.frame.DataFrame'>\n",
      "RangeIndex: 1408395 entries, 0 to 1408394\n",
      "Data columns (total 2 columns):\n",
      " #   Column   Non-Null Count    Dtype\n",
      "---  ------   --------------    -----\n",
      " 0   mov_id   1408395 non-null  int64\n",
      " 1   cust_id  1408395 non-null  int64\n",
      "dtypes: int64(2)\n",
      "memory usage: 21.5 MB\n"
     ]
    },
    {
     "data": {
      "text/html": [
       "<div>\n",
       "<style scoped>\n",
       "    .dataframe tbody tr th:only-of-type {\n",
       "        vertical-align: middle;\n",
       "    }\n",
       "\n",
       "    .dataframe tbody tr th {\n",
       "        vertical-align: top;\n",
       "    }\n",
       "\n",
       "    .dataframe thead th {\n",
       "        text-align: right;\n",
       "    }\n",
       "</style>\n",
       "<table border=\"1\" class=\"dataframe\">\n",
       "  <thead>\n",
       "    <tr style=\"text-align: right;\">\n",
       "      <th></th>\n",
       "      <th>mov_id</th>\n",
       "      <th>cust_id</th>\n",
       "    </tr>\n",
       "  </thead>\n",
       "  <tbody>\n",
       "    <tr>\n",
       "      <th>0</th>\n",
       "      <td>1</td>\n",
       "      <td>30878</td>\n",
       "    </tr>\n",
       "    <tr>\n",
       "      <th>1</th>\n",
       "      <td>1</td>\n",
       "      <td>2647871</td>\n",
       "    </tr>\n",
       "    <tr>\n",
       "      <th>2</th>\n",
       "      <td>1</td>\n",
       "      <td>1283744</td>\n",
       "    </tr>\n",
       "    <tr>\n",
       "      <th>3</th>\n",
       "      <td>1</td>\n",
       "      <td>2488120</td>\n",
       "    </tr>\n",
       "    <tr>\n",
       "      <th>4</th>\n",
       "      <td>1</td>\n",
       "      <td>317050</td>\n",
       "    </tr>\n",
       "  </tbody>\n",
       "</table>\n",
       "</div>"
      ],
      "text/plain": [
       "   mov_id  cust_id\n",
       "0       1    30878\n",
       "1       1  2647871\n",
       "2       1  1283744\n",
       "3       1  2488120\n",
       "4       1   317050"
      ]
     },
     "metadata": {},
     "output_type": "display_data"
    },
    {
     "name": "stdout",
     "output_type": "stream",
     "text": [
      "\n",
      "<class 'pandas.core.frame.DataFrame'>\n",
      "RangeIndex: 100480507 entries, 0 to 100480506\n",
      "Data columns (total 4 columns):\n",
      " #   Column   Dtype \n",
      "---  ------   ----- \n",
      " 0   mov_id   int64 \n",
      " 1   cust_id  int64 \n",
      " 2   rating   int64 \n",
      " 3   date     object\n",
      "dtypes: int64(3), object(1)\n",
      "memory usage: 3.0+ GB\n",
      "\n",
      "Wall time: 24.6 s\n"
     ]
    },
    {
     "data": {
      "text/html": [
       "<div>\n",
       "<style scoped>\n",
       "    .dataframe tbody tr th:only-of-type {\n",
       "        vertical-align: middle;\n",
       "    }\n",
       "\n",
       "    .dataframe tbody tr th {\n",
       "        vertical-align: top;\n",
       "    }\n",
       "\n",
       "    .dataframe thead th {\n",
       "        text-align: right;\n",
       "    }\n",
       "</style>\n",
       "<table border=\"1\" class=\"dataframe\">\n",
       "  <thead>\n",
       "    <tr style=\"text-align: right;\">\n",
       "      <th></th>\n",
       "      <th>mov_id</th>\n",
       "      <th>cust_id</th>\n",
       "      <th>rating</th>\n",
       "      <th>date</th>\n",
       "    </tr>\n",
       "  </thead>\n",
       "  <tbody>\n",
       "    <tr>\n",
       "      <th>0</th>\n",
       "      <td>1</td>\n",
       "      <td>1488844</td>\n",
       "      <td>3</td>\n",
       "      <td>2005-09-06</td>\n",
       "    </tr>\n",
       "    <tr>\n",
       "      <th>1</th>\n",
       "      <td>1</td>\n",
       "      <td>822109</td>\n",
       "      <td>5</td>\n",
       "      <td>2005-05-13</td>\n",
       "    </tr>\n",
       "    <tr>\n",
       "      <th>2</th>\n",
       "      <td>1</td>\n",
       "      <td>885013</td>\n",
       "      <td>4</td>\n",
       "      <td>2005-10-19</td>\n",
       "    </tr>\n",
       "    <tr>\n",
       "      <th>3</th>\n",
       "      <td>1</td>\n",
       "      <td>30878</td>\n",
       "      <td>4</td>\n",
       "      <td>2005-12-26</td>\n",
       "    </tr>\n",
       "    <tr>\n",
       "      <th>4</th>\n",
       "      <td>1</td>\n",
       "      <td>823519</td>\n",
       "      <td>3</td>\n",
       "      <td>2004-05-03</td>\n",
       "    </tr>\n",
       "  </tbody>\n",
       "</table>\n",
       "</div>"
      ],
      "text/plain": [
       "   mov_id  cust_id  rating        date\n",
       "0       1  1488844       3  2005-09-06\n",
       "1       1   822109       5  2005-05-13\n",
       "2       1   885013       4  2005-10-19\n",
       "3       1    30878       4  2005-12-26\n",
       "4       1   823519       3  2004-05-03"
      ]
     },
     "execution_count": 3,
     "metadata": {},
     "output_type": "execute_result"
    }
   ],
   "source": [
    "%%time\n",
    "# import movie titles data set, and netflix training and quiz sets\n",
    "movs = pd.read_csv(base_path + 'mov_titles.csv', encoding='latin1')\n",
    "quiz = pd.read_csv(base_path + 'probe.csv', header=None,\n",
    "                   names=['mov_id', 'cust_id'])\n",
    "net = pd.read_csv(base_path + 'data.csv', header=None,\n",
    "                   names=['mov_id', 'cust_id', 'rating', 'date'])\n",
    "movs.info()\n",
    "display(movs.head())\n",
    "print()\n",
    "quiz.info()\n",
    "display(quiz.head())\n",
    "print()\n",
    "net.info()\n",
    "print()\n",
    "net.head()"
   ]
  },
  {
   "cell_type": "code",
   "execution_count": 4,
   "metadata": {},
   "outputs": [
    {
     "name": "stdout",
     "output_type": "stream",
     "text": [
      "Wall time: 1.09 s\n"
     ]
    }
   ],
   "source": [
    "%%time\n",
    "# drop movie titles and manage memory usage via dtypes\n",
    "movs.drop(['mov_title'], 1, inplace=True)\n",
    "movs.mov_id = movs.mov_id.astype(np.int16)\n",
    "movs.mov_year = movs.mov_year.astype(np.int16)\n",
    "quiz.mov_id = quiz.mov_id.astype(np.int16)\n",
    "quiz.cust_id = quiz.cust_id.astype(np.int32)\n",
    "net.mov_id = net.mov_id.astype(np.int16)\n",
    "net.cust_id = net.cust_id.astype(np.int32)\n",
    "net.rating = net.rating.astype(np.int8)"
   ]
  },
  {
   "cell_type": "code",
   "execution_count": 5,
   "metadata": {},
   "outputs": [
    {
     "name": "stdout",
     "output_type": "stream",
     "text": [
      "<class 'pandas.core.frame.DataFrame'>\n",
      "RangeIndex: 100480507 entries, 0 to 100480506\n",
      "Data columns (total 7 columns):\n",
      " #   Column      Dtype\n",
      "---  ------      -----\n",
      " 0   mov_id      int16\n",
      " 1   cust_id     int32\n",
      " 2   rating      int8 \n",
      " 3   rate_year   int16\n",
      " 4   adj_year    int8 \n",
      " 5   rate_month  int8 \n",
      " 6   rate_day    int8 \n",
      "dtypes: int16(2), int32(1), int8(4)\n",
      "memory usage: 1.1 GB\n",
      "\n"
     ]
    },
    {
     "data": {
      "text/html": [
       "<div>\n",
       "<style scoped>\n",
       "    .dataframe tbody tr th:only-of-type {\n",
       "        vertical-align: middle;\n",
       "    }\n",
       "\n",
       "    .dataframe tbody tr th {\n",
       "        vertical-align: top;\n",
       "    }\n",
       "\n",
       "    .dataframe thead th {\n",
       "        text-align: right;\n",
       "    }\n",
       "</style>\n",
       "<table border=\"1\" class=\"dataframe\">\n",
       "  <thead>\n",
       "    <tr style=\"text-align: right;\">\n",
       "      <th></th>\n",
       "      <th>mov_id</th>\n",
       "      <th>cust_id</th>\n",
       "      <th>rating</th>\n",
       "      <th>rate_year</th>\n",
       "      <th>adj_year</th>\n",
       "      <th>rate_month</th>\n",
       "      <th>rate_day</th>\n",
       "    </tr>\n",
       "  </thead>\n",
       "  <tbody>\n",
       "    <tr>\n",
       "      <th>0</th>\n",
       "      <td>1</td>\n",
       "      <td>1488844</td>\n",
       "      <td>3</td>\n",
       "      <td>2005</td>\n",
       "      <td>6</td>\n",
       "      <td>9</td>\n",
       "      <td>6</td>\n",
       "    </tr>\n",
       "    <tr>\n",
       "      <th>1</th>\n",
       "      <td>1</td>\n",
       "      <td>822109</td>\n",
       "      <td>5</td>\n",
       "      <td>2005</td>\n",
       "      <td>6</td>\n",
       "      <td>5</td>\n",
       "      <td>13</td>\n",
       "    </tr>\n",
       "    <tr>\n",
       "      <th>2</th>\n",
       "      <td>1</td>\n",
       "      <td>885013</td>\n",
       "      <td>4</td>\n",
       "      <td>2005</td>\n",
       "      <td>6</td>\n",
       "      <td>10</td>\n",
       "      <td>19</td>\n",
       "    </tr>\n",
       "    <tr>\n",
       "      <th>3</th>\n",
       "      <td>1</td>\n",
       "      <td>30878</td>\n",
       "      <td>4</td>\n",
       "      <td>2005</td>\n",
       "      <td>6</td>\n",
       "      <td>12</td>\n",
       "      <td>26</td>\n",
       "    </tr>\n",
       "    <tr>\n",
       "      <th>4</th>\n",
       "      <td>1</td>\n",
       "      <td>823519</td>\n",
       "      <td>3</td>\n",
       "      <td>2004</td>\n",
       "      <td>5</td>\n",
       "      <td>5</td>\n",
       "      <td>3</td>\n",
       "    </tr>\n",
       "  </tbody>\n",
       "</table>\n",
       "</div>"
      ],
      "text/plain": [
       "   mov_id  cust_id  rating  rate_year  adj_year  rate_month  rate_day\n",
       "0       1  1488844       3       2005         6           9         6\n",
       "1       1   822109       5       2005         6           5        13\n",
       "2       1   885013       4       2005         6          10        19\n",
       "3       1    30878       4       2005         6          12        26\n",
       "4       1   823519       3       2004         5           5         3"
      ]
     },
     "metadata": {},
     "output_type": "display_data"
    },
    {
     "name": "stdout",
     "output_type": "stream",
     "text": [
      "\n",
      "Wall time: 23.3 s\n"
     ]
    }
   ],
   "source": [
    "%%time\n",
    "# convert to datetime; extract year, month, and day; manage memory\n",
    "net.date = pd.to_datetime(net.date)\n",
    "net['rate_year'] = pd.DatetimeIndex(net.date).year\n",
    "net.rate_year = net.rate_year.astype(np.int16)\n",
    "net['adj_year'] = net.rate_year - net.rate_year.min()\n",
    "net.adj_year = net.adj_year.astype(np.int8)\n",
    "net['rate_month'] = pd.DatetimeIndex(net.date).month\n",
    "net.rate_month = net.rate_month.astype(np.int8)\n",
    "net['rate_day'] = pd.DatetimeIndex(net.date).day\n",
    "net.rate_day = net.rate_day.astype(np.int8)\n",
    "net.drop(['date'], 1, inplace=True)\n",
    "net.info()\n",
    "print()\n",
    "display(net.head())\n",
    "print()"
   ]
  },
  {
   "cell_type": "code",
   "execution_count": 6,
   "metadata": {},
   "outputs": [
    {
     "name": "stdout",
     "output_type": "stream",
     "text": [
      "Wall time: 55.8 s\n"
     ]
    }
   ],
   "source": [
    "%%time\n",
    "# convert years to days; a day for each leap year\n",
    "def ytd(zeroed_series, orig_series):\n",
    "    zeroed_list = list(zeroed_series)\n",
    "    orig_list = list(orig_series)\n",
    "    ytd_list = []\n",
    "    i = 0\n",
    "    for yr in zeroed_list:\n",
    "        x = 365 * yr\n",
    "        if orig_list[i] % 4 == 0:\n",
    "            x += 1\n",
    "        else:\n",
    "            pass\n",
    "        ytd_list.append(x)\n",
    "        i += 1\n",
    "    return ytd_list\n",
    "\n",
    "# add return value to df; manage memory\n",
    "net['ytd'] = ytd(net.adj_year, net.rate_year)\n",
    "net.ytd = net.ytd.astype(np.int16)\n",
    "net.drop(['adj_year'], 1, inplace=True)"
   ]
  },
  {
   "cell_type": "code",
   "execution_count": 7,
   "metadata": {},
   "outputs": [
    {
     "name": "stdout",
     "output_type": "stream",
     "text": [
      "Wall time: 1min 13s\n"
     ]
    }
   ],
   "source": [
    "%%time\n",
    "# calculate number of days in each month\n",
    "def mtd(month_series, year_series):\n",
    "    mo_list = list(month_series)\n",
    "    year_list = list(year_series)\n",
    "    mtd_list = []\n",
    "    i = 0\n",
    "    for mo in mo_list:\n",
    "        x = 0\n",
    "        if mo > 1:\n",
    "            x = 31\n",
    "        if mo > 2:\n",
    "            if year_list[i] % 4 == 0:\n",
    "                x += 29\n",
    "            else:\n",
    "                x += 28\n",
    "        if mo > 3:\n",
    "            x += 31\n",
    "        if mo > 4:\n",
    "            x += 30\n",
    "        if mo > 5:\n",
    "            x += 31\n",
    "        if mo > 6:\n",
    "            x += 30\n",
    "        if mo > 7:\n",
    "            x += 31\n",
    "        if mo > 8:\n",
    "            x += 31\n",
    "        if mo > 9:\n",
    "            x += 30\n",
    "        if mo > 10:\n",
    "            x += 31\n",
    "        if mo > 11:\n",
    "            x += 30\n",
    "        mtd_list.append(x)\n",
    "        i += 1\n",
    "    return mtd_list\n",
    "\n",
    "# add return value to df; manage memory\n",
    "net['mtd'] = mtd(net.rate_month, net.rate_year)\n",
    "net.mtd = net.mtd.astype(np.int16)\n",
    "net.drop(['rate_month', 'rate_year'], 1, inplace=True)"
   ]
  },
  {
   "cell_type": "code",
   "execution_count": 8,
   "metadata": {},
   "outputs": [
    {
     "name": "stdout",
     "output_type": "stream",
     "text": [
      "Wall time: 2.24 s\n"
     ]
    }
   ],
   "source": [
    "%%time\n",
    "# add days; reset min value to day 1; manage memory\n",
    "net['day_rated'] = net.ytd + net.mtd + net.rate_day\n",
    "net.day_rated = net.day_rated - net.day_rated.min() + 1\n",
    "net.day_rated = net.day_rated.astype(np.int16)\n",
    "net.drop(['rate_day', 'mtd', 'ytd'], 1, inplace=True)"
   ]
  },
  {
   "cell_type": "code",
   "execution_count": 9,
   "metadata": {},
   "outputs": [
    {
     "name": "stdout",
     "output_type": "stream",
     "text": [
      "<class 'pandas.core.frame.DataFrame'>\n",
      "Int64Index: 100480507 entries, 0 to 100480506\n",
      "Data columns (total 5 columns):\n",
      " #   Column     Dtype\n",
      "---  ------     -----\n",
      " 0   mov_id     int16\n",
      " 1   cust_id    int32\n",
      " 2   rating     int8 \n",
      " 3   day_rated  int16\n",
      " 4   mov_year   int16\n",
      "dtypes: int16(3), int32(1), int8(1)\n",
      "memory usage: 1.8 GB\n",
      "Wall time: 8.16 s\n"
     ]
    },
    {
     "data": {
      "text/html": [
       "<div>\n",
       "<style scoped>\n",
       "    .dataframe tbody tr th:only-of-type {\n",
       "        vertical-align: middle;\n",
       "    }\n",
       "\n",
       "    .dataframe tbody tr th {\n",
       "        vertical-align: top;\n",
       "    }\n",
       "\n",
       "    .dataframe thead th {\n",
       "        text-align: right;\n",
       "    }\n",
       "</style>\n",
       "<table border=\"1\" class=\"dataframe\">\n",
       "  <thead>\n",
       "    <tr style=\"text-align: right;\">\n",
       "      <th></th>\n",
       "      <th>mov_id</th>\n",
       "      <th>cust_id</th>\n",
       "      <th>rating</th>\n",
       "      <th>day_rated</th>\n",
       "      <th>mov_year</th>\n",
       "    </tr>\n",
       "  </thead>\n",
       "  <tbody>\n",
       "    <tr>\n",
       "      <th>0</th>\n",
       "      <td>1</td>\n",
       "      <td>1488844</td>\n",
       "      <td>3</td>\n",
       "      <td>2125</td>\n",
       "      <td>2003</td>\n",
       "    </tr>\n",
       "    <tr>\n",
       "      <th>1</th>\n",
       "      <td>1</td>\n",
       "      <td>822109</td>\n",
       "      <td>5</td>\n",
       "      <td>2009</td>\n",
       "      <td>2003</td>\n",
       "    </tr>\n",
       "    <tr>\n",
       "      <th>2</th>\n",
       "      <td>1</td>\n",
       "      <td>885013</td>\n",
       "      <td>4</td>\n",
       "      <td>2168</td>\n",
       "      <td>2003</td>\n",
       "    </tr>\n",
       "    <tr>\n",
       "      <th>3</th>\n",
       "      <td>1</td>\n",
       "      <td>30878</td>\n",
       "      <td>4</td>\n",
       "      <td>2236</td>\n",
       "      <td>2003</td>\n",
       "    </tr>\n",
       "    <tr>\n",
       "      <th>4</th>\n",
       "      <td>1</td>\n",
       "      <td>823519</td>\n",
       "      <td>3</td>\n",
       "      <td>1636</td>\n",
       "      <td>2003</td>\n",
       "    </tr>\n",
       "  </tbody>\n",
       "</table>\n",
       "</div>"
      ],
      "text/plain": [
       "   mov_id  cust_id  rating  day_rated  mov_year\n",
       "0       1  1488844       3       2125      2003\n",
       "1       1   822109       5       2009      2003\n",
       "2       1   885013       4       2168      2003\n",
       "3       1    30878       4       2236      2003\n",
       "4       1   823519       3       1636      2003"
      ]
     },
     "execution_count": 9,
     "metadata": {},
     "output_type": "execute_result"
    }
   ],
   "source": [
    "%%time\n",
    "# merge dataframes to add mov_year (release year)\n",
    "net = net.merge(movs, how='right', on='mov_id')\n",
    "net.info()\n",
    "net.head()"
   ]
  },
  {
   "cell_type": "code",
   "execution_count": 10,
   "metadata": {},
   "outputs": [
    {
     "name": "stdout",
     "output_type": "stream",
     "text": [
      "<class 'pandas.core.frame.DataFrame'>\n",
      "Int64Index: 1408395 entries, 3 to 100480411\n",
      "Data columns (total 5 columns):\n",
      " #   Column     Non-Null Count    Dtype\n",
      "---  ------     --------------    -----\n",
      " 0   mov_id     1408395 non-null  int16\n",
      " 1   cust_id    1408395 non-null  int32\n",
      " 2   rating     1408395 non-null  int8 \n",
      " 3   day_rated  1408395 non-null  int16\n",
      " 4   mov_year   1408395 non-null  int16\n",
      "dtypes: int16(3), int32(1), int8(1)\n",
      "memory usage: 25.5 MB\n",
      "Wall time: 28.8 s\n"
     ]
    },
    {
     "data": {
      "text/html": [
       "<div>\n",
       "<style scoped>\n",
       "    .dataframe tbody tr th:only-of-type {\n",
       "        vertical-align: middle;\n",
       "    }\n",
       "\n",
       "    .dataframe tbody tr th {\n",
       "        vertical-align: top;\n",
       "    }\n",
       "\n",
       "    .dataframe thead th {\n",
       "        text-align: right;\n",
       "    }\n",
       "</style>\n",
       "<table border=\"1\" class=\"dataframe\">\n",
       "  <thead>\n",
       "    <tr style=\"text-align: right;\">\n",
       "      <th></th>\n",
       "      <th>mov_id</th>\n",
       "      <th>cust_id</th>\n",
       "      <th>rating</th>\n",
       "      <th>day_rated</th>\n",
       "      <th>mov_year</th>\n",
       "    </tr>\n",
       "  </thead>\n",
       "  <tbody>\n",
       "    <tr>\n",
       "      <th>3</th>\n",
       "      <td>1</td>\n",
       "      <td>30878</td>\n",
       "      <td>4</td>\n",
       "      <td>2236</td>\n",
       "      <td>2003</td>\n",
       "    </tr>\n",
       "    <tr>\n",
       "      <th>47</th>\n",
       "      <td>1</td>\n",
       "      <td>2647871</td>\n",
       "      <td>4</td>\n",
       "      <td>2240</td>\n",
       "      <td>2003</td>\n",
       "    </tr>\n",
       "    <tr>\n",
       "      <th>59</th>\n",
       "      <td>1</td>\n",
       "      <td>1283744</td>\n",
       "      <td>3</td>\n",
       "      <td>1620</td>\n",
       "      <td>2003</td>\n",
       "    </tr>\n",
       "    <tr>\n",
       "      <th>79</th>\n",
       "      <td>1</td>\n",
       "      <td>2488120</td>\n",
       "      <td>5</td>\n",
       "      <td>2139</td>\n",
       "      <td>2003</td>\n",
       "    </tr>\n",
       "    <tr>\n",
       "      <th>135</th>\n",
       "      <td>1</td>\n",
       "      <td>317050</td>\n",
       "      <td>5</td>\n",
       "      <td>2195</td>\n",
       "      <td>2003</td>\n",
       "    </tr>\n",
       "  </tbody>\n",
       "</table>\n",
       "</div>"
      ],
      "text/plain": [
       "     mov_id  cust_id  rating  day_rated  mov_year\n",
       "3         1    30878       4       2236      2003\n",
       "47        1  2647871       4       2240      2003\n",
       "59        1  1283744       3       1620      2003\n",
       "79        1  2488120       5       2139      2003\n",
       "135       1   317050       5       2195      2003"
      ]
     },
     "execution_count": 10,
     "metadata": {},
     "output_type": "execute_result"
    }
   ],
   "source": [
    "%%time\n",
    "# merge dataframes to get ratings for quiz set\n",
    "quiz = net.merge(quiz, on=['mov_id', 'cust_id'], right_index=True)\n",
    "quiz.info()\n",
    "quiz.head()"
   ]
  },
  {
   "cell_type": "code",
   "execution_count": 11,
   "metadata": {},
   "outputs": [
    {
     "name": "stdout",
     "output_type": "stream",
     "text": [
      "<class 'pandas.core.frame.DataFrame'>\n",
      "Int64Index: 97713135 entries, 0 to 100480506\n",
      "Data columns (total 5 columns):\n",
      " #   Column     Dtype\n",
      "---  ------     -----\n",
      " 0   mov_id     int16\n",
      " 1   cust_id    int32\n",
      " 2   rating     int8 \n",
      " 3   day_rated  int16\n",
      " 4   mov_year   int16\n",
      "dtypes: int16(3), int32(1), int8(1)\n",
      "memory usage: 1.7 GB\n",
      "Wall time: 37.2 s\n"
     ]
    }
   ],
   "source": [
    "%%time\n",
    "# drop rows in training set containing mov_ids\n",
    "# and cust_ids that are not in the quiz set\n",
    "net = net[net.mov_id.isin(quiz.mov_id)].copy()\n",
    "net = net[net.cust_id.isin(quiz.cust_id)].copy()\n",
    "net.info()\n",
    "\n",
    "# copy and set aside all_ratings\n",
    "all_ratings = net.drop(['mov_id', 'cust_id', 'day_rated', 'mov_year'], 1)"
   ]
  },
  {
   "cell_type": "code",
   "execution_count": 13,
   "metadata": {},
   "outputs": [
    {
     "name": "stdout",
     "output_type": "stream",
     "text": [
      "<class 'pandas.core.frame.DataFrame'>\n",
      "Int64Index: 96304740 entries, 0 to 100480506\n",
      "Data columns (total 5 columns):\n",
      " #   Column     Dtype\n",
      "---  ------     -----\n",
      " 0   mov_id     int16\n",
      " 1   cust_id    int32\n",
      " 2   rating     int8 \n",
      " 3   day_rated  int16\n",
      " 4   mov_year   int16\n",
      "dtypes: int16(3), int32(1), int8(1)\n",
      "memory usage: 1.7 GB\n",
      "Wall time: 13.5 s\n"
     ]
    }
   ],
   "source": [
    "%%time\n",
    "# pass quiz index to drop corresponding rows in training set\n",
    "quiz_idx = list(quiz.index)\n",
    "net.drop(quiz_idx, inplace=True)\n",
    "net.info()"
   ]
  },
  {
   "cell_type": "code",
   "execution_count": 14,
   "metadata": {},
   "outputs": [
    {
     "name": "stdout",
     "output_type": "stream",
     "text": [
      "<class 'pandas.core.frame.DataFrame'>\n",
      "Int64Index: 97713135 entries, 0 to 100480506\n",
      "Data columns (total 5 columns):\n",
      " #   Column     Dtype  \n",
      "---  ------     -----  \n",
      " 0   mov_id     int16  \n",
      " 1   cust_id    int32  \n",
      " 2   rating     float64\n",
      " 3   day_rated  int16  \n",
      " 4   mov_year   int16  \n",
      "dtypes: float64(1), int16(3), int32(1)\n",
      "memory usage: 2.4 GB\n"
     ]
    },
    {
     "data": {
      "text/plain": [
       "mov_id             0\n",
       "cust_id            0\n",
       "rating       1408395\n",
       "day_rated          0\n",
       "mov_year           0\n",
       "dtype: int64"
      ]
     },
     "metadata": {},
     "output_type": "display_data"
    },
    {
     "name": "stdout",
     "output_type": "stream",
     "text": [
      "Wall time: 8.96 s\n"
     ]
    },
    {
     "data": {
      "text/html": [
       "<div>\n",
       "<style scoped>\n",
       "    .dataframe tbody tr th:only-of-type {\n",
       "        vertical-align: middle;\n",
       "    }\n",
       "\n",
       "    .dataframe tbody tr th {\n",
       "        vertical-align: top;\n",
       "    }\n",
       "\n",
       "    .dataframe thead th {\n",
       "        text-align: right;\n",
       "    }\n",
       "</style>\n",
       "<table border=\"1\" class=\"dataframe\">\n",
       "  <thead>\n",
       "    <tr style=\"text-align: right;\">\n",
       "      <th></th>\n",
       "      <th>mov_id</th>\n",
       "      <th>cust_id</th>\n",
       "      <th>rating</th>\n",
       "      <th>day_rated</th>\n",
       "      <th>mov_year</th>\n",
       "    </tr>\n",
       "  </thead>\n",
       "  <tbody>\n",
       "    <tr>\n",
       "      <th>0</th>\n",
       "      <td>1</td>\n",
       "      <td>1488844</td>\n",
       "      <td>3.00</td>\n",
       "      <td>2125</td>\n",
       "      <td>2003</td>\n",
       "    </tr>\n",
       "    <tr>\n",
       "      <th>1</th>\n",
       "      <td>1</td>\n",
       "      <td>822109</td>\n",
       "      <td>5.00</td>\n",
       "      <td>2009</td>\n",
       "      <td>2003</td>\n",
       "    </tr>\n",
       "    <tr>\n",
       "      <th>2</th>\n",
       "      <td>1</td>\n",
       "      <td>885013</td>\n",
       "      <td>4.00</td>\n",
       "      <td>2168</td>\n",
       "      <td>2003</td>\n",
       "    </tr>\n",
       "    <tr>\n",
       "      <th>3</th>\n",
       "      <td>1</td>\n",
       "      <td>30878</td>\n",
       "      <td>nan</td>\n",
       "      <td>2236</td>\n",
       "      <td>2003</td>\n",
       "    </tr>\n",
       "    <tr>\n",
       "      <th>4</th>\n",
       "      <td>1</td>\n",
       "      <td>823519</td>\n",
       "      <td>3.00</td>\n",
       "      <td>1636</td>\n",
       "      <td>2003</td>\n",
       "    </tr>\n",
       "  </tbody>\n",
       "</table>\n",
       "</div>"
      ],
      "text/plain": [
       "   mov_id  cust_id  rating  day_rated  mov_year\n",
       "0       1  1488844    3.00       2125      2003\n",
       "1       1   822109    5.00       2009      2003\n",
       "2       1   885013    4.00       2168      2003\n",
       "3       1    30878     nan       2236      2003\n",
       "4       1   823519    3.00       1636      2003"
      ]
     },
     "execution_count": 14,
     "metadata": {},
     "output_type": "execute_result"
    }
   ],
   "source": [
    "%%time\n",
    "# drop ratings from the quiz set; concatenate dfs, then sort net df\n",
    "quiz.drop(['rating'], 1, inplace=True)\n",
    "net = pd.concat([net, quiz])\n",
    "net.sort_index(inplace=True)\n",
    "net.info()\n",
    "display(net.isna().sum())\n",
    "net.head()"
   ]
  },
  {
   "cell_type": "code",
   "execution_count": 15,
   "metadata": {},
   "outputs": [
    {
     "name": "stdout",
     "output_type": "stream",
     "text": [
      "Wall time: 10.8 s\n"
     ]
    }
   ],
   "source": [
    "%%time\n",
    "quindex = pd.DataFrame(quiz_idx, columns=['quindex'])\n",
    "quindex.to_parquet('quindex.parquet')\n",
    "all_ratings.to_parquet('all_ratings.parquet')\n",
    "net.to_parquet('net1.parquet')"
   ]
  },
  {
   "cell_type": "code",
   "execution_count": 33,
   "metadata": {},
   "outputs": [
    {
     "name": "stdout",
     "output_type": "stream",
     "text": [
      "This program executes in 704.4601273000001 seconds.\n"
     ]
    }
   ],
   "source": [
    "end_time = time.perf_counter()\n",
    "prog_ex_time = end_time - start_time\n",
    "print('This program executes in {} seconds.'.format(prog_ex_time))"
   ]
  },
  {
   "cell_type": "markdown",
   "metadata": {},
   "source": [
    "With 6 features:\n",
    "This program executes in 704.4601273000001 seconds.\n",
    "That's 11 minutes and 44.5 seconds."
   ]
  }
 ],
 "metadata": {
  "kernelspec": {
   "display_name": "Python 3",
   "language": "python",
   "name": "python3"
  },
  "language_info": {
   "codemirror_mode": {
    "name": "ipython",
    "version": 3
   },
   "file_extension": ".py",
   "mimetype": "text/x-python",
   "name": "python",
   "nbconvert_exporter": "python",
   "pygments_lexer": "ipython3",
   "version": "3.7.9"
  }
 },
 "nbformat": 4,
 "nbformat_minor": 4
}
